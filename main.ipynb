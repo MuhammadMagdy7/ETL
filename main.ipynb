{
 "cells": [
  {
   "cell_type": "markdown",
   "metadata": {},
   "source": [
    "### Import libraries"
   ]
  },
  {
   "cell_type": "code",
   "execution_count": 1,
   "metadata": {},
   "outputs": [
    {
     "data": {
      "text/plain": [
       "True"
      ]
     },
     "execution_count": 1,
     "metadata": {},
     "output_type": "execute_result"
    }
   ],
   "source": [
    "import os\n",
    "from pyspark.sql import SparkSession, functions as F\n",
    "from pyspark.sql.types import StructType, StructField, StringType, IntegerType, BooleanType, TimestampType, ArrayType\n",
    "from pyspark.sql.functions import lit, udf, col, when, explode\n",
    "# import pyodbc\n",
    "from langdetect import detect\n",
    "from functools import reduce\n",
    "# from googletrans import Translator\n",
    "from dotenv import load_dotenv\n",
    "# Load environment variables\n",
    "load_dotenv(\".env\")\n",
    "\n"
   ]
  },
  {
   "cell_type": "code",
   "execution_count": 2,
   "metadata": {},
   "outputs": [
    {
     "name": "stderr",
     "output_type": "stream",
     "text": [
      "25/02/13 08:13:40 WARN NativeCodeLoader: Unable to load native-hadoop library for your platform... using builtin-java classes where applicable\n",
      "Setting default log level to \"WARN\".\n",
      "To adjust logging level use sc.setLogLevel(newLevel). For SparkR, use setLogLevel(newLevel).\n"
     ]
    }
   ],
   "source": [
    "# Spark Session\n",
    "spark = SparkSession.builder.appName(\"youtube-ETL\").config(\"spark.jars\", \"/home/elhossiny/Downloads/sqljdbc_12.8.1.0_enu/sqljdbc_12.8/enu/jars/mssql-jdbc-12.8.1.jre11.jar\").getOrCreate()\n"
   ]
  },
  {
   "cell_type": "markdown",
   "metadata": {},
   "source": [
    "### Config connection properties With Sql Server"
   ]
  },
  {
   "cell_type": "code",
   "execution_count": 3,
   "metadata": {},
   "outputs": [],
   "source": [
    "db_user = os.getenv(\"DB_USER\")\n",
    "db_password = os.getenv(\"DB_PASSWORD\")\n",
    "user = \"sa\"\n",
    "password = \"\"\n",
    "\n",
    "jdbc_url = \"jdbc:sqlserver://localhost:1433;databaseName=warehouse;encrypt=true;trustServerCertificate=true\"\n",
    "connection_properties = {\n",
    "    \"user\": db_user,\n",
    "    \"password\": db_password,\n",
    "    \"driver\": \"com.microsoft.sqlserver.jdbc.SQLServerDriver\"\n",
    "\n",
    "}"
   ]
  },
  {
   "cell_type": "code",
   "execution_count": 17,
   "metadata": {},
   "outputs": [
    {
     "name": "stdout",
     "output_type": "stream",
     "text": [
      "['CA_category_id.json', 'CAvideos.csv', 'FRvideos.csv', 'JP_category_id.json', 'JPvideos.csv', 'FR_category_id.json']\n"
     ]
    }
   ],
   "source": [
    "files = os.listdir(\"./data/\")\n",
    "print(files)"
   ]
  },
  {
   "cell_type": "code",
   "execution_count": 5,
   "metadata": {},
   "outputs": [],
   "source": [
    "def split_files(file_list):\n",
    "    csv_files = [file for file in file_list if file.endswith('.csv')]\n",
    "    json_files = [file for file in file_list if file.endswith('.json')]\n",
    "\n",
    "    return csv_files, json_files\n",
    "\n",
    "csv_files, json_files = split_files(files)"
   ]
  },
  {
   "cell_type": "code",
   "execution_count": 6,
   "metadata": {},
   "outputs": [
    {
     "data": {
      "text/plain": [
       "['CA_category_id.json', 'JP_category_id.json', 'FR_category_id.json']"
      ]
     },
     "execution_count": 6,
     "metadata": {},
     "output_type": "execute_result"
    }
   ],
   "source": [
    "json_files"
   ]
  },
  {
   "cell_type": "code",
   "execution_count": 7,
   "metadata": {},
   "outputs": [],
   "source": [
    "\n",
    "schemaVideo = StructType([\n",
    "    StructField(\"video_id\", StringType(), True),\n",
    "    StructField(\"trending_date\", StringType(), True),  \n",
    "    StructField(\"title\", StringType(), True),\n",
    "    StructField(\"channel_title\", StringType(), True),\n",
    "    StructField(\"category_id\", StringType(), True),\n",
    "    StructField(\"publish_time\", TimestampType(), True),  \n",
    "    StructField(\"tags\", StringType(), True),\n",
    "    StructField(\"views\", IntegerType(), True),\n",
    "    StructField(\"likes\", IntegerType(), True),\n",
    "    StructField(\"dislikes\", IntegerType(), True),\n",
    "    StructField(\"comment_count\", IntegerType(), True),\n",
    "    StructField(\"thumbnail_link\", StringType(), True),\n",
    "    StructField(\"comments_disabled\", BooleanType(), True),\n",
    "    StructField(\"ratings_disabled\", BooleanType(), True),\n",
    "    StructField(\"video_error_or_removed\", BooleanType(), True),\n",
    "    StructField(\"description\", StringType(), True)\n",
    "])\n",
    "\n",
    "schemaCategory = StructType([\n",
    "    StructField(\"kind\", StringType(), True),\n",
    "    StructField(\"etag\", StringType(), True),\n",
    "    StructField(\"items\", ArrayType(\n",
    "        StructType([\n",
    "            StructField(\"kind\", StringType(), True),\n",
    "            StructField(\"etag\", StringType(), True),\n",
    "            StructField(\"id\", StringType(), True),\n",
    "            StructField(\"snippet\", StructType([\n",
    "                StructField(\"channelId\", StringType(), True),\n",
    "                StructField(\"title\", StringType(), True),\n",
    "                StructField(\"assignable\", BooleanType(), True)\n",
    "            ]), True)\n",
    "        ])\n",
    "    ), True)\n",
    "])"
   ]
  },
  {
   "cell_type": "markdown",
   "metadata": {},
   "source": [
    "### Funcations"
   ]
  },
  {
   "cell_type": "code",
   "execution_count": null,
   "metadata": {},
   "outputs": [],
   "source": [
    "def Extract_df_From_Files(file):\n",
    "    try:\n",
    "        fileExtension = os.path.splitext(file)[1]\n",
    "        if fileExtension == \".csv\":\n",
    "            df = spark.read.csv(file, header=True, schema=schemaVideo)\n",
    "            df_limited = df.limit(500)\n",
    "            return df_limited\n",
    "        elif fileExtension == \".json\":\n",
    "            df = spark.read.schema(schemaCategory).option(\"multiLine\", \"true\").json(file)\n",
    "            good_df = df.select(explode(col(\"items\")).alias(\"item\")) \\\n",
    "            .select(col(\"item.id\"), col(\"item.snippet.title\"))\n",
    "            return good_df\n",
    "        else :\n",
    "            print(f\" {file} The extension must be .csv\")\n",
    "            return\n",
    "    except Exception as e:\n",
    "        print(f\"Error is {e}\")"
   ]
  },
  {
   "cell_type": "code",
   "execution_count": 9,
   "metadata": {},
   "outputs": [],
   "source": [
    "def remove_rows_with_more_than_10_empty(df):\n",
    "    # Count the number of missing values in each row across all columns\n",
    "    null_count_expr = sum(when((col(c).isNull()) | (col(c) == \"\"), 1).otherwise(0) for c in df.columns)\n",
    "    # Keep rows that contain 6 or fewer missing values\n",
    "    return df.filter(null_count_expr <= 6)\n"
   ]
  },
  {
   "cell_type": "code",
   "execution_count": 10,
   "metadata": {},
   "outputs": [],
   "source": [
    "# def translate_to_english(text):\n",
    "#     translator = Translator()\n",
    "#     try:\n",
    "#         translation = translator.translate(text, dest='en')\n",
    "#         return translation.text\n",
    "#     except Exception as e:\n",
    "#         return None\n",
    "# translate_udf = udf(translate_to_english, StringType())"
   ]
  },
  {
   "cell_type": "code",
   "execution_count": 11,
   "metadata": {},
   "outputs": [],
   "source": [
    "def detect_language(text):\n",
    "    if text is not None:\n",
    "        try:\n",
    "            return detect(text)\n",
    "        except:\n",
    "            return \"unknown\"\n",
    "    return \"unknown\"\n",
    "\n",
    "detect_language_udf = udf(detect_language, StringType())"
   ]
  },
  {
   "cell_type": "code",
   "execution_count": 12,
   "metadata": {},
   "outputs": [],
   "source": [
    "def Transform_df(df, country_code):\n",
    "    df_without_empty = remove_rows_with_more_than_10_empty(df)\n",
    "    df_with_country = df_without_empty.withColumn(\"Country\", lit(country_code))\n",
    "    df_with_languages = df_with_country.withColumn(\"Language\", detect_language_udf(df_with_country['title']))\n",
    "    # excluded_column = \"Country\" # The column that should be excluded from the duplicate check\n",
    "    # columns_to_check = [col for col in df.columns if col != excluded_column]\n",
    "    df_unique = df_with_languages.dropDuplicates([\"video_id\"])\n",
    "    # for col_name in columns:\n",
    "    #     df_with_languages = df_with_languages.withColumn(\"Translation_\" + col_name, translate_udf(df_with_languages[col_name]))\n",
    "    return df_unique"
   ]
  },
  {
   "cell_type": "code",
   "execution_count": 13,
   "metadata": {},
   "outputs": [],
   "source": [
    "# def save_db(df):\n",
    "#     pandas_df = df.toPandas()\n",
    "#     job = client.load_table_from_dataframe(pandas_df, table_id )\n",
    "#     job.result() \n",
    "#     print(\"Data has been successfully uploaded to BigQuery using google-cloud-bigquery!\")\n",
    "\n",
    "def save_db(df, table_name, state):\n",
    "    # Save DataFrame TO SQL Server\n",
    "    # append or overwrite\n",
    "    df.write.mode(state).jdbc( \n",
    "      url=jdbc_url,\n",
    "      table=table_name,\n",
    "      properties=connection_properties\n",
    "  )\n",
    "    print(\"Data has been successfully uploaded to SQL server!\")\n",
    "\n",
    "\n"
   ]
  },
  {
   "cell_type": "markdown",
   "metadata": {},
   "source": [
    "## Transformation on files"
   ]
  },
  {
   "cell_type": "markdown",
   "metadata": {},
   "source": [
    "### Youtube data"
   ]
  },
  {
   "cell_type": "code",
   "execution_count": 14,
   "metadata": {},
   "outputs": [
    {
     "name": "stderr",
     "output_type": "stream",
     "text": [
      "25/02/13 08:13:44 WARN SparkStringUtils: Truncated the string representation of a plan since it was too large. This behavior can be adjusted by setting 'spark.sql.debug.maxToStringFields'.\n",
      "                                                                                \r"
     ]
    },
    {
     "name": "stdout",
     "output_type": "stream",
     "text": [
      "Data has been successfully uploaded to SQL server!\n"
     ]
    },
    {
     "name": "stderr",
     "output_type": "stream",
     "text": [
      "                                                                                \r"
     ]
    },
    {
     "name": "stdout",
     "output_type": "stream",
     "text": [
      "Data has been successfully uploaded to SQL server!\n",
      "Data has been successfully uploaded to SQL server!\n"
     ]
    }
   ],
   "source": [
    "for file in csv_files:\n",
    "    df = Extract_df_From_Files(file)\n",
    "    country_code = file[:2]  # Extract First 2\n",
    "    transform_df = Transform_df(df, country_code)\n",
    "    save_db(transform_df, \"youtube_data\", \"append\")"
   ]
  },
  {
   "cell_type": "markdown",
   "metadata": {},
   "source": [
    "### Category data"
   ]
  },
  {
   "cell_type": "code",
   "execution_count": 15,
   "metadata": {},
   "outputs": [
    {
     "name": "stdout",
     "output_type": "stream",
     "text": [
      "Data has been successfully uploaded to SQL server!\n"
     ]
    }
   ],
   "source": [
    "dfs = []\n",
    "for file in json_files:\n",
    "    df = Extract_df_From_Files(file)\n",
    "    dfs.append(df)\n",
    "\n",
    "merged_df = reduce(lambda df1, df2: df1.union(df2), dfs)\n",
    "unique_df = merged_df.dropDuplicates([\"id\"])\n",
    "save_db(unique_df, \"category_data\", \"overwrite\")"
   ]
  },
  {
   "cell_type": "markdown",
   "metadata": {},
   "source": [
    "## Some Knowledge about the data\n"
   ]
  },
  {
   "cell_type": "code",
   "execution_count": 16,
   "metadata": {},
   "outputs": [
    {
     "name": "stdout",
     "output_type": "stream",
     "text": [
      "Show the first 5 rows:\n",
      "+-----------+-------------+--------------------+-------------+-----------+-------------------+--------------------+--------+-------+--------+-------------+--------------------+-----------------+----------------+----------------------+--------------------+\n",
      "|   video_id|trending_date|               title|channel_title|category_id|       publish_time|                tags|   views|  likes|dislikes|comment_count|      thumbnail_link|comments_disabled|ratings_disabled|video_error_or_removed|         description|\n",
      "+-----------+-------------+--------------------+-------------+-----------+-------------------+--------------------+--------+-------+--------+-------------+--------------------+-----------------+----------------+----------------------+--------------------+\n",
      "|n1WpP7iowLc|     17.14.11|Eminem - Walk On ...|   EminemVEVO|         10|2017-11-10 19:00:03|\"Eminem\"|\"Walk\"|\"...|17158579| 787425|   43420|       125882|https://i.ytimg.c...|            false|           false|                 false|Eminem's new trac...|\n",
      "|0dBIkQ4Mz1M|     17.14.11|PLUSH - Bad Unbox...|    iDubbbzTV|         23|2017-11-13 19:00:00|\"plush\"|\"bad unbo...| 1014651| 127794|    1688|        13030|https://i.ytimg.c...|            false|           false|                 false|STill got a lot o...|\n",
      "|5qpjK5DgCt4|     17.14.11|Racist Superman |...| Rudy Mancuso|         23|2017-11-12 21:05:24|\"racist superman\"...| 3191434| 146035|    5339|         8181|https://i.ytimg.c...|            false|           false|                 false|WATCH MY PREVIOUS...|\n",
      "|d380meD0W0M|     17.14.11|I Dare You: GOING...|     nigahiga|         24|2017-11-12 20:01:41|\"ryan\"|\"higa\"|\"hi...| 2095828| 132239|    1989|        17518|https://i.ytimg.c...|            false|           false|                 false|I know it's been ...|\n",
      "|2Vv-BfVoq4g|     17.14.11|Ed Sheeran - Perf...|   Ed Sheeran|         10|2017-11-09 13:04:14|\"edsheeran\"|\"ed s...|33523622|1634130|   21082|        85067|https://i.ytimg.c...|            false|           false|                 false|🎧: https://ad.gt...|\n",
      "+-----------+-------------+--------------------+-------------+-----------+-------------------+--------------------+--------+-------+--------+-------------+--------------------+-----------------+----------------+----------------------+--------------------+\n",
      "only showing top 5 rows\n",
      "\n",
      "Show the general statistics:\n",
      "+-------+-----------+-------------+---------------------------------+-------------------+------------------+--------------------+------------------+------------------+------------------+-----------------+--------------------+--------------------+\n",
      "|summary|   video_id|trending_date|                            title|      channel_title|       category_id|                tags|             views|             likes|          dislikes|    comment_count|      thumbnail_link|         description|\n",
      "+-------+-----------+-------------+---------------------------------+-------------------+------------------+--------------------+------------------+------------------+------------------+-----------------+--------------------+--------------------+\n",
      "|  count|        500|          480|                              479|                479|               479|                 479|               479|               479|               479|              479|                 479|                 469|\n",
      "|   mean|       NULL|         NULL|                             NULL|               NULL|20.866388308977037|                NULL|1111684.6784968686|39326.697286012524| 2169.198329853862| 4416.17745302714|                NULL|                NULL|\n",
      "| stddev|       NULL|         NULL|                             NULL|               NULL| 6.811178489040657|                NULL| 2964010.347935691|127597.94931028709|12531.923417753926|12105.36819281046|                NULL|                NULL|\n",
      "|    min|-Toujzk3ysk|    Поединок.|             'Helping People' ...|   20th Century Fox|                 1|\"#DramaAlert\"|\"Dr...|              1898|                 0|                 0|                0|https://i.ytimg.c...|(For licensing or...|\n",
      "|    max|zxuvr9tN924|     17.16.11|非诚勿扰 完整版 “小朱亚文”亮相...|麻辣变形计 HOT GIRL|                43|              [none]|          39082222|           1721384|            200391|           125882|https://i.ytimg.c...|😃 SUBSCRIBE ► ht...|\n",
      "+-------+-----------+-------------+---------------------------------+-------------------+------------------+--------------------+------------------+------------------+------------------+-----------------+--------------------+--------------------+\n",
      "\n",
      "Schema of the DataFrame:\n",
      "root\n",
      " |-- video_id: string (nullable = true)\n",
      " |-- trending_date: string (nullable = true)\n",
      " |-- title: string (nullable = true)\n",
      " |-- channel_title: string (nullable = true)\n",
      " |-- category_id: integer (nullable = true)\n",
      " |-- publish_time: timestamp (nullable = true)\n",
      " |-- tags: string (nullable = true)\n",
      " |-- views: integer (nullable = true)\n",
      " |-- likes: integer (nullable = true)\n",
      " |-- dislikes: integer (nullable = true)\n",
      " |-- comment_count: integer (nullable = true)\n",
      " |-- thumbnail_link: string (nullable = true)\n",
      " |-- comments_disabled: boolean (nullable = true)\n",
      " |-- ratings_disabled: boolean (nullable = true)\n",
      " |-- video_error_or_removed: boolean (nullable = true)\n",
      " |-- description: string (nullable = true)\n",
      "\n",
      "Count missing values in each column:\n",
      "video_id: 0\n",
      "trending_date: 20\n",
      "title: 21\n",
      "channel_title: 21\n",
      "category_id: 21\n",
      "publish_time: 21\n",
      "tags: 21\n",
      "views: 21\n",
      "likes: 21\n",
      "dislikes: 21\n",
      "comment_count: 21\n",
      "thumbnail_link: 21\n",
      "comments_disabled: 21\n",
      "ratings_disabled: 21\n",
      "video_error_or_removed: 21\n",
      "description: 31\n",
      "Show the first 5 rows:\n",
      "+-----------+-------------+--------------------+-------------------+-----------+-------------------+--------------------+------+-----+--------+-------------+--------------------+-----------------+----------------+----------------------+--------------------+\n",
      "|   video_id|trending_date|               title|      channel_title|category_id|       publish_time|                tags| views|likes|dislikes|comment_count|      thumbnail_link|comments_disabled|ratings_disabled|video_error_or_removed|         description|\n",
      "+-----------+-------------+--------------------+-------------------+-----------+-------------------+--------------------+------+-----+--------+-------------+--------------------+-----------------+----------------+----------------------+--------------------+\n",
      "|Ro6eob0LrCY|     17.14.11|Malika LePen : Fe...|Le Raptor Dissident|         24|2017-11-13 19:32:55|\"Raptor\"\"|\"\"Dissi...|212702|29282|    1108|         3817|https://i.ytimg.c...|            false|           false|                 false|Dimanche.\\n18h30....|\n",
      "|Yo84eqYwP98|     17.14.11|LA PIRE PARTIE ft...|            Le Labo|         24|2017-11-12 17:00:02|              [none]|432721|14053|     576|         1161|https://i.ytimg.c...|            false|           false|                 false|Le jeu de société...|\n",
      "|ceqntSXE-10|     17.14.11|DESSINS ANIMÉS F...|    Daniil le Russe|         23|2017-11-13 19:00:38|\"cartoon\"\"|\"\"poké...|482153|76203|     477|         9580|https://i.ytimg.c...|            false|           false|                 false|Une nouvelle dose...|\n",
      "|WuTFI5qftCE|     17.14.11|PAPY GRENIER - ME...|  Joueur Du Grenier|         20|2017-11-12 19:00:02|\"Papy grenier\"\"|\"...|925222|85016|     550|         4303|https://i.ytimg.c...|            false|           false|                 false|Nouvel ,épisode d...|\n",
      "|ee6OFs8TdEg|     17.14.11|QUI SAUTERA LE PL...|  Aurelien Fontenoy|         17|2017-11-13 18:30:03|\"vélo\"\"|\"\"vtt\"\"|\"...|141695| 8091|      72|          481|https://i.ytimg.c...|            false|           false|                 false|Sauts à plus de 4...|\n",
      "+-----------+-------------+--------------------+-------------------+-----------+-------------------+--------------------+------+-----+--------+-------------+--------------------+-----------------+----------------+----------------------+--------------------+\n",
      "only showing top 5 rows\n",
      "\n",
      "Show the general statistics:\n",
      "+-------+-----------+-------------+----------------------+-------------+------------------+--------------------+------------------+-----------------+-----------------+------------------+--------------------+--------------------+\n",
      "|summary|   video_id|trending_date|                 title|channel_title|       category_id|                tags|             views|            likes|         dislikes|     comment_count|      thumbnail_link|         description|\n",
      "+-------+-----------+-------------+----------------------+-------------+------------------+--------------------+------------------+-----------------+-----------------+------------------+--------------------+--------------------+\n",
      "|  count|        500|          488|                   488|          488|               488|                 488|               488|              488|              488|               488|                 488|                 453|\n",
      "|   mean|       NULL|         NULL|                  NULL|         NULL|20.317622950819672|                NULL|412048.75409836066|17342.42213114754|565.6270491803278|1542.4426229508197|                NULL|                NULL|\n",
      "| stddev|       NULL|         NULL|                  NULL|         NULL| 6.776843111035345|                NULL|1826284.1460437863|86857.45276284452|2379.412359995052| 7362.767178056205|                NULL|                NULL|\n",
      "|    min|--mmyQlx91I|     17.14.11|  #Débloqués // Sai...|   #Débloqués|                 1|\"#التلفزيون_الجزا...|              1471|                0|                0|                 0|https://i.ytimg.c...|-----------------...|\n",
      "|    max|zAyvYsvRInY|     17.16.11|猎场 | Game Of Hunt...|     大劇獨播|                43|            insolite|          33523622|          1634134|            43420|            125882|https://i.ytimg.c...|🔴🔵🎥Subscribe t...|\n",
      "+-------+-----------+-------------+----------------------+-------------+------------------+--------------------+------------------+-----------------+-----------------+------------------+--------------------+--------------------+\n",
      "\n",
      "Schema of the DataFrame:\n",
      "root\n",
      " |-- video_id: string (nullable = true)\n",
      " |-- trending_date: string (nullable = true)\n",
      " |-- title: string (nullable = true)\n",
      " |-- channel_title: string (nullable = true)\n",
      " |-- category_id: integer (nullable = true)\n",
      " |-- publish_time: timestamp (nullable = true)\n",
      " |-- tags: string (nullable = true)\n",
      " |-- views: integer (nullable = true)\n",
      " |-- likes: integer (nullable = true)\n",
      " |-- dislikes: integer (nullable = true)\n",
      " |-- comment_count: integer (nullable = true)\n",
      " |-- thumbnail_link: string (nullable = true)\n",
      " |-- comments_disabled: boolean (nullable = true)\n",
      " |-- ratings_disabled: boolean (nullable = true)\n",
      " |-- video_error_or_removed: boolean (nullable = true)\n",
      " |-- description: string (nullable = true)\n",
      "\n",
      "Count missing values in each column:\n",
      "video_id: 0\n",
      "trending_date: 12\n",
      "title: 12\n",
      "channel_title: 12\n",
      "category_id: 12\n",
      "publish_time: 12\n",
      "tags: 12\n",
      "views: 12\n",
      "likes: 12\n",
      "dislikes: 12\n",
      "comment_count: 12\n",
      "thumbnail_link: 12\n",
      "comments_disabled: 12\n",
      "ratings_disabled: 12\n",
      "video_error_or_removed: 12\n",
      "description: 47\n",
      "Show the first 5 rows:\n",
      "+-----------+-------------+-------------------------------------+-------------------------+-----------+-------------------+---------------------------+-------+------+--------+-------------+--------------------+-----------------+----------------+----------------------+-------------------------------------+\n",
      "|   video_id|trending_date|                                title|            channel_title|category_id|       publish_time|                       tags|  views| likes|dislikes|comment_count|      thumbnail_link|comments_disabled|ratings_disabled|video_error_or_removed|                          description|\n",
      "+-----------+-------------+-------------------------------------+-------------------------+-----------+-------------------+---------------------------+-------+------+--------+-------------+--------------------+-----------------+----------------+----------------------+-------------------------------------+\n",
      "|5ugKfHgsmYw|     18.07.02| 陸自ヘリ、垂直に落下＝路上の車が撮影|     時事通信映像センター|         25|2018-02-06 05:04:37|\"事故|\"\"佐賀\"\"|\"\"佐賀県\"...| 188085|   591|     189|            0|https://i.ytimg.c...|             true|           false|                 false|佐賀県神埼市の民家に墜落した陸上自...|\n",
      "|ohObafdd34Y|     18.07.02|    イッテQ お祭り男宮川×手越 巨大...|神谷えりな Kamiya Erina 2|          1|2018-02-06 06:01:56|                     [none]|  90929|   442|      88|          174|https://i.ytimg.c...|            false|           false|                 false|                                 NULL|\n",
      "|aBr2kKAHN6M|     18.07.02|                 Live Views of Sta...|                   SpaceX|         28|2018-02-06 23:38:22|                     [none]|6408303|165892|    2331|         3006|https://i.ytimg.c...|            false|           false|                 false|                                 NULL|\n",
      "|5wNnwChvmsQ|     18.07.02|東京ディズニーリゾートの元キャスト...|           アシタノワダイ|         25|2018-02-06 08:08:49|             アシタノワダイ|  96255|  1165|     277|          545|https://i.ytimg.c...|            false|           false|                 false|東京ディズニーリゾートの元キャスト...|\n",
      "|B7J47qFvdsk|     18.07.02|榮倉奈々、衝撃の死んだふり！映画『...|           シネマトゥデイ|          1|2018-02-06 04:30:00|                     [none]| 108408|  1336|      74|          201|https://i.ytimg.c...|            false|           false|                 false|家に帰ってきたサラリーマンのじゅん...|\n",
      "+-----------+-------------+-------------------------------------+-------------------------+-----------+-------------------+---------------------------+-------+------+--------+-------------+--------------------+-----------------+----------------+----------------------+-------------------------------------+\n",
      "only showing top 5 rows\n",
      "\n",
      "Show the general statistics:\n",
      "+-------+-------------------------------------+-------------+-----------------------------------+-----------------------+-----------------+-----------------------------------+------------------+-----------------+-----------------+------------------+--------------------+--------------------+\n",
      "|summary|                             video_id|trending_date|                              title|          channel_title|      category_id|                               tags|             views|            likes|         dislikes|     comment_count|      thumbnail_link|         description|\n",
      "+-------+-------------------------------------+-------------+-----------------------------------+-----------------------+-----------------+-----------------------------------+------------------+-----------------+-----------------+------------------+--------------------+--------------------+\n",
      "|  count|                                  500|          478|                                478|                    478|              478|                                478|               478|              478|              478|               478|                 478|                 419|\n",
      "|   mean|                                 NULL|         NULL|                               NULL|                   NULL|20.90794979079498|                               NULL|457745.94769874477|9363.690376569039|472.6924686192469|1004.5753138075314|                NULL|                NULL|\n",
      "| stddev|                                 NULL|         NULL|                               NULL|                   NULL|6.331173049440375|                               NULL| 1911200.879062519|42209.53250965719|1793.537499654948|4019.3918088665914|                NULL|                NULL|\n",
      "|    min|                               #NAME?|     18.07.02|      1400人の男性がNo.1に選んだ...|24h cosme(24hコスメ)...|                1|               \"#PS4Live|\"\"PlayS...|              1715|                0|                0|                 0|https://i.ytimg.c...|- KPOP Chart Show...|\n",
      "|    max|視聴率も高く、世論の心を大きく動か...|     18.09.02|🍱《東京新聞・望月衣塑子記者「笑...|         電撃ランキング|               29|進撃の巨人 漫画 進撃の巨人 １０２話|          14816949|           300314|            15751|             30313|https://i.ytimg.c...|🏀Golden State Wa...|\n",
      "+-------+-------------------------------------+-------------+-----------------------------------+-----------------------+-----------------+-----------------------------------+------------------+-----------------+-----------------+------------------+--------------------+--------------------+\n",
      "\n",
      "Schema of the DataFrame:\n",
      "root\n",
      " |-- video_id: string (nullable = true)\n",
      " |-- trending_date: string (nullable = true)\n",
      " |-- title: string (nullable = true)\n",
      " |-- channel_title: string (nullable = true)\n",
      " |-- category_id: integer (nullable = true)\n",
      " |-- publish_time: timestamp (nullable = true)\n",
      " |-- tags: string (nullable = true)\n",
      " |-- views: integer (nullable = true)\n",
      " |-- likes: integer (nullable = true)\n",
      " |-- dislikes: integer (nullable = true)\n",
      " |-- comment_count: integer (nullable = true)\n",
      " |-- thumbnail_link: string (nullable = true)\n",
      " |-- comments_disabled: boolean (nullable = true)\n",
      " |-- ratings_disabled: boolean (nullable = true)\n",
      " |-- video_error_or_removed: boolean (nullable = true)\n",
      " |-- description: string (nullable = true)\n",
      "\n",
      "Count missing values in each column:\n",
      "video_id: 0\n",
      "trending_date: 22\n",
      "title: 22\n",
      "channel_title: 22\n",
      "category_id: 22\n",
      "publish_time: 22\n",
      "tags: 22\n",
      "views: 22\n",
      "likes: 22\n",
      "dislikes: 22\n",
      "comment_count: 22\n",
      "thumbnail_link: 22\n",
      "comments_disabled: 22\n",
      "ratings_disabled: 22\n",
      "video_error_or_removed: 22\n",
      "description: 81\n"
     ]
    }
   ],
   "source": [
    "for file in csv_files:\n",
    "    # Read the file and extract the DataFrame\n",
    "    df = Extract_df_From_Files(file)\n",
    "    \n",
    "    print(\"Show the first 5 rows:\")\n",
    "    df.show(5)\n",
    "    \n",
    "    print(\"Show the general statistics:\")\n",
    "    df.describe().show()\n",
    "    \n",
    "    print(\"Schema of the DataFrame:\")\n",
    "    df.printSchema()\n",
    "    \n",
    "    print(\"Count missing values in each column:\")\n",
    "    for col in df.columns:\n",
    "        missing_count = df.filter(F.col(col).isNull()).count()\n",
    "        print(f\"{col}: {missing_count}\")"
   ]
  },
  {
   "cell_type": "markdown",
   "metadata": {},
   "source": [
    "## Thank you for reading my code"
   ]
  }
 ],
 "metadata": {
  "kernelspec": {
   "display_name": "new-data-engineering",
   "language": "python",
   "name": "python3"
  },
  "language_info": {
   "codemirror_mode": {
    "name": "ipython",
    "version": 3
   },
   "file_extension": ".py",
   "mimetype": "text/x-python",
   "name": "python",
   "nbconvert_exporter": "python",
   "pygments_lexer": "ipython3",
   "version": "3.12.9"
  }
 },
 "nbformat": 4,
 "nbformat_minor": 2
}
